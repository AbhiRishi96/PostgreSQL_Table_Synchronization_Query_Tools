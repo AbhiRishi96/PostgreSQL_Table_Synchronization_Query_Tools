{
 "cells": [
  {
   "cell_type": "code",
   "execution_count": null,
   "metadata": {},
   "outputs": [],
   "source": [
    "# Importing required libraries\n",
    "import yaml\n",
    "from db_utils import establish_connection_pool\n",
    "from psycopg2 import sql\n",
    "import logging\n",
    "from logging_config import setup_logging\n",
    "from query_utils import create_view, execute_select_query, execute_query_to_df, execute_query_to_df_optimized\n"
   ]
  },
  {
   "cell_type": "code",
   "execution_count": null,
   "metadata": {},
   "outputs": [],
   "source": [
    "def load_config(config_path):\n",
    "    with open(config_path, 'r') as file:\n",
    "        return yaml.safe_load(file)\n"
   ]
  },
  {
   "cell_type": "code",
   "execution_count": null,
   "metadata": {},
   "outputs": [],
   "source": [
    "# Load the configuration\n",
    "config = load_config('config.yaml')\n",
    "\n",
    "# Setup logging\n",
    "setup_logging(config['logging'])\n"
   ]
  },
  {
   "cell_type": "code",
   "execution_count": null,
   "metadata": {},
   "outputs": [],
   "source": [
    "# Establish connection pool\n",
    "connection_pool = establish_connection_pool(config['database'])\n",
    "\n",
    "if connection_pool is None:\n",
    "    logging.error(\"Failed to establish connection pool. Exiting.\")\n",
    "else:\n",
    "    logging.info(\"Connection pool established successfully.\")\n"
   ]
  },
  {
   "cell_type": "code",
   "execution_count": null,
   "metadata": {},
   "outputs": [],
   "source": [
    "# Modify the view query\n",
    "config['view']['query'] =  \"\"\" Query \"\"\"\n"
   ]
  },
  {
   "cell_type": "code",
   "execution_count": null,
   "metadata": {},
   "outputs": [],
   "source": [
    "result = execute_select_query(connection_pool, config['view']['query'])\n"
   ]
  },
  {
   "cell_type": "code",
   "execution_count": null,
   "metadata": {},
   "outputs": [],
   "source": [
    "df = execute_query_to_df(connection_pool, config['view']['query'])\n"
   ]
  },
  {
   "cell_type": "code",
   "execution_count": null,
   "metadata": {},
   "outputs": [],
   "source": [
    "df\n"
   ]
  },
  {
   "cell_type": "code",
   "execution_count": null,
   "metadata": {},
   "outputs": [],
   "source": [
    "config['view']['name'] = 'opacity'\n"
   ]
  },
  {
   "cell_type": "code",
   "execution_count": null,
   "metadata": {},
   "outputs": [],
   "source": [
    "# # Example: Create a view\n",
    "# schema_name = config['schema']['name']\n",
    "# view_name = config['view']['name']\n",
    "# view_query = config['view']['query']\n",
    "\n"
   ]
  },
  {
   "cell_type": "code",
   "execution_count": null,
   "metadata": {},
   "outputs": [],
   "source": [
    "config['schema']['name']\n"
   ]
  },
  {
   "cell_type": "code",
   "execution_count": null,
   "metadata": {},
   "outputs": [],
   "source": [
    "if connection_pool is not None:\n",
    "    # Create the updated view\n",
    "    create_view(connection_pool, config['schema']['name'], config['view']['name'], config['view']['query'])\n",
    "\n",
    "    # Close the connection pool\n",
    "    connection_pool.closeall()\n",
    "    logging.info(\"Connection pool closed.\")\n"
   ]
  },
  {
   "cell_type": "code",
   "execution_count": null,
   "metadata": {},
   "outputs": [],
   "source": [
    "config['view']['name'] = 'name'\n"
   ]
  },
  {
   "cell_type": "code",
   "execution_count": null,
   "metadata": {},
   "outputs": [],
   "source": [
    "view_query = sql.SQL(\"SELECT * FROM {}.{}\").format(\n",
    "    sql.Identifier(config['schema']['name']),\n",
    "    sql.Identifier(config['view']['name'])\n",
    ")\n"
   ]
  },
  {
   "cell_type": "code",
   "execution_count": null,
   "metadata": {},
   "outputs": [],
   "source": [
    "df = execute_query_to_df_optimized(connection_pool, config['view']['query'])\n"
   ]
  },
  {
   "cell_type": "code",
   "execution_count": null,
   "metadata": {},
   "outputs": [],
   "source": [
    "df\n"
   ]
  },
  {
   "cell_type": "code",
   "execution_count": null,
   "metadata": {},
   "outputs": [],
   "source": []
  }
 ],
 "metadata": {
  "kernelspec": {
   "display_name": "base",
   "language": "python",
   "name": "python3"
  },
  "language_info": {
   "codemirror_mode": {
    "name": "ipython",
    "version": 3
   },
   "file_extension": ".py",
   "mimetype": "text/x-python",
   "name": "python",
   "nbconvert_exporter": "python",
   "pygments_lexer": "ipython3",
   "version": "3.8.8"
  }
 },
 "nbformat": 4,
 "nbformat_minor": 2
}
